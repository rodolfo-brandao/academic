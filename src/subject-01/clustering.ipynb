{
 "cells": [
  {
   "cell_type": "markdown",
   "id": "f6b559e8",
   "metadata": {},
   "source": [
    "# Clustering\n",
    "\n",
    "Graduate Specialization Program: Data Science & Artificial Intelligence\n",
    "- Subject: *Introduction, Definition & Examples*\n",
    "- Class: CDAIA001\n",
    "- Lessons: 03 and 04 (06–07/06/2025)"
   ]
  },
  {
   "cell_type": "markdown",
   "id": "f7d549d1",
   "metadata": {},
   "source": [
    "## Setup"
   ]
  },
  {
   "cell_type": "markdown",
   "id": "00972471",
   "metadata": {},
   "source": [
    "### Requirements"
   ]
  },
  {
   "cell_type": "code",
   "execution_count": null,
   "id": "3e0116dd",
   "metadata": {},
   "outputs": [],
   "source": [
    "%pip install --upgrade pip\n",
    "%pip install -r ../requirements.txt"
   ]
  },
  {
   "cell_type": "markdown",
   "id": "4715ebc2",
   "metadata": {},
   "source": [
    "### Imports"
   ]
  },
  {
   "cell_type": "code",
   "execution_count": 24,
   "id": "ffe90eab",
   "metadata": {},
   "outputs": [],
   "source": [
    "import pandas as pd\n",
    "import matplotlib.pyplot as plt\n",
    "import seaborn as sns\n",
    "from sklearn.feature_extraction.text import TfidfVectorizer\n",
    "from sklearn.cluster import KMeans\n",
    "from sklearn.decomposition import PCA\n",
    "from sklearn.preprocessing import StandardScaler"
   ]
  },
  {
   "cell_type": "markdown",
   "id": "d2d6a1c2",
   "metadata": {},
   "source": [
    "## Read Dataset"
   ]
  },
  {
   "cell_type": "code",
   "execution_count": 25,
   "id": "edf24725",
   "metadata": {},
   "outputs": [
    {
     "data": {
      "text/html": [
       "<div>\n",
       "<style scoped>\n",
       "    .dataframe tbody tr th:only-of-type {\n",
       "        vertical-align: middle;\n",
       "    }\n",
       "\n",
       "    .dataframe tbody tr th {\n",
       "        vertical-align: top;\n",
       "    }\n",
       "\n",
       "    .dataframe thead th {\n",
       "        text-align: right;\n",
       "    }\n",
       "</style>\n",
       "<table border=\"1\" class=\"dataframe\">\n",
       "  <thead>\n",
       "    <tr style=\"text-align: right;\">\n",
       "      <th></th>\n",
       "      <th>person</th>\n",
       "      <th>month</th>\n",
       "      <th>film</th>\n",
       "      <th>rating</th>\n",
       "      <th>genre</th>\n",
       "    </tr>\n",
       "  </thead>\n",
       "  <tbody>\n",
       "    <tr>\n",
       "      <th>0</th>\n",
       "      <td>John</td>\n",
       "      <td>1</td>\n",
       "      <td>The Shawshank Redemption</td>\n",
       "      <td>9.3</td>\n",
       "      <td>Drama</td>\n",
       "    </tr>\n",
       "    <tr>\n",
       "      <th>1</th>\n",
       "      <td>John</td>\n",
       "      <td>1</td>\n",
       "      <td>Inception</td>\n",
       "      <td>8.8</td>\n",
       "      <td>Action</td>\n",
       "    </tr>\n",
       "    <tr>\n",
       "      <th>2</th>\n",
       "      <td>John</td>\n",
       "      <td>1</td>\n",
       "      <td>Parasite</td>\n",
       "      <td>8.5</td>\n",
       "      <td>Thriller</td>\n",
       "    </tr>\n",
       "    <tr>\n",
       "      <th>3</th>\n",
       "      <td>Jane</td>\n",
       "      <td>1</td>\n",
       "      <td>La La Land</td>\n",
       "      <td>8.0</td>\n",
       "      <td>Romance</td>\n",
       "    </tr>\n",
       "    <tr>\n",
       "      <th>4</th>\n",
       "      <td>Jane</td>\n",
       "      <td>1</td>\n",
       "      <td>The Godfather</td>\n",
       "      <td>9.2</td>\n",
       "      <td>Crime</td>\n",
       "    </tr>\n",
       "  </tbody>\n",
       "</table>\n",
       "</div>"
      ],
      "text/plain": [
       "  person  month                      film  rating     genre\n",
       "0   John      1  The Shawshank Redemption     9.3     Drama\n",
       "1   John      1                 Inception     8.8    Action\n",
       "2   John      1                  Parasite     8.5  Thriller\n",
       "3   Jane      1                La La Land     8.0   Romance\n",
       "4   Jane      1             The Godfather     9.2     Crime"
      ]
     },
     "execution_count": 25,
     "metadata": {},
     "output_type": "execute_result"
    }
   ],
   "source": [
    "df = pd.read_json(path_or_buf='../../json/films-dataset.json')\n",
    "df.head()"
   ]
  },
  {
   "cell_type": "markdown",
   "id": "e466f88a",
   "metadata": {},
   "source": [
    "## Clustering 01\n",
    "\n",
    "Using `TfidfVectorizer` and `KMeans` to create **film genre** clusters."
   ]
  },
  {
   "cell_type": "code",
   "execution_count": 26,
   "id": "45cd8a92",
   "metadata": {},
   "outputs": [
    {
     "name": "stdout",
     "output_type": "stream",
     "text": [
      "Cluster #0:\n",
      " - Drama\n",
      " - Drama\n",
      " - Drama\n",
      " - Drama\n",
      " - Drama\n",
      " - Drama\n",
      " - Drama\n",
      " - Drama\n",
      " - Drama\n",
      " - Drama\n",
      " - Drama\n",
      " - Drama\n",
      " - Drama\n",
      "\n",
      "\n",
      "Cluster #1:\n",
      " - Romance\n",
      " - Romance\n",
      " - Romance\n",
      " - Romance\n",
      " - Romance\n",
      " - Romance\n",
      " - Romance\n",
      " - Romance\n",
      "\n",
      "\n",
      "Cluster #2:\n",
      " - Sci-Fi\n",
      " - Sci-Fi\n",
      " - Sci-Fi\n",
      " - Mystery\n",
      " - Western\n",
      " - Adventure\n",
      " - Sci-Fi\n",
      " - War\n",
      "\n",
      "\n",
      "Cluster #3:\n",
      " - Crime\n",
      " - Crime\n",
      " - Crime\n",
      " - Crime\n",
      " - Crime\n",
      "\n",
      "\n",
      "Cluster #4:\n",
      " - Action\n",
      " - Action\n",
      " - Action\n",
      " - Action\n",
      "\n",
      "\n",
      "Cluster #5:\n",
      " - Thriller\n",
      " - Thriller\n",
      " - Thriller\n",
      " - Thriller\n",
      "\n",
      "\n",
      "Cluster #6:\n",
      " - Biography\n",
      " - Biography\n",
      " - Biography\n",
      "\n",
      "\n",
      "Cluster #7:\n",
      " - Comedy\n",
      " - Comedy\n",
      "\n",
      "\n",
      "Cluster #8:\n",
      " - Animation\n",
      " - Animation\n",
      "\n",
      "\n",
      "Cluster #9:\n",
      " - Fantasy\n",
      "\n",
      "\n"
     ]
    }
   ],
   "source": [
    "film_genres = df['genre'].tolist()\n",
    "\n",
    "vectorizer = TfidfVectorizer()\n",
    "X = vectorizer.fit_transform(film_genres)\n",
    "\n",
    "n_clusters = 10\n",
    "kmeans = KMeans(n_clusters=n_clusters, n_init=10, random_state=42)\n",
    "kmeans.fit(X)\n",
    "\n",
    "clusters = kmeans.labels_\n",
    "\n",
    "for i in range(n_clusters):\n",
    "    print(f'Cluster #{i}:')\n",
    "    for text, cluster in zip(film_genres, clusters):\n",
    "        if cluster == i:\n",
    "            print(f' - {text}')\n",
    "    print('\\n')"
   ]
  },
  {
   "cell_type": "markdown",
   "id": "248d2fab",
   "metadata": {},
   "source": [
    "### Plot Clusters"
   ]
  },
  {
   "cell_type": "code",
   "execution_count": 27,
   "id": "15d29bdb",
   "metadata": {},
   "outputs": [
    {
     "data": {
      "image/png": "[encoded data removed]",
      "text/plain": [
       "<Figure size 1500x500 with 1 Axes>"
      ]
     },
     "metadata": {},
     "output_type": "display_data"
    }
   ],
   "source": [
    "pca = PCA(n_components=10)\n",
    "reduced_data = pca.fit_transform(X.toarray())\n",
    "\n",
    "plt.figure(figsize=(15, 5))\n",
    "colors = ['red', 'blue', 'orange', 'yellow', 'green', 'purple', 'brown', 'black', 'gray', 'pink']\n",
    "\n",
    "for i in range(n_clusters):\n",
    "    points = reduced_data[clusters == i]\n",
    "    plt.scatter(points[:, 0], points[:, 1], s=100, c=colors[i], label=f\"Cluster {i}\")\n",
    "\n",
    "plt.title(\"Film Genres\")\n",
    "plt.xlabel(\"Main component 1\")\n",
    "plt.ylabel(\"Main component 2\")\n",
    "plt.legend()\n",
    "plt.show()"
   ]
  },
  {
   "cell_type": "markdown",
   "id": "d2671001",
   "metadata": {},
   "source": [
    "## Clustering 02\n",
    "\n",
    "Occurrence of months where films were watched."
   ]
  },
  {
   "cell_type": "code",
   "execution_count": 28,
   "id": "643355c6",
   "metadata": {},
   "outputs": [
    {
     "data": {
      "image/png": "[encoded data removed]",
      "text/plain": [
       "<Figure size 2000x800 with 1 Axes>"
      ]
     },
     "metadata": {},
     "output_type": "display_data"
    }
   ],
   "source": [
    "scaler = StandardScaler()\n",
    "scaled_data = scaler.fit_transform(df[['month']])\n",
    "\n",
    "kmeans = KMeans(n_clusters=3, random_state=42)\n",
    "df['KMeans Cluster'] = kmeans.fit_predict(scaled_data)\n",
    "\n",
    "fig, ax = plt.subplots(figsize=(20, 8))\n",
    "\n",
    "sns.scatterplot(data=df, x='person', y='month', hue='KMeans Cluster', ax=ax, palette='viridis')\n",
    "ax.set_title('Watch Months')\n",
    "\n",
    "plt.show()"
   ]
  }
 ],
 "metadata": {
  "kernelspec": {
   "display_name": "Python 3",
   "language": "python",
   "name": "python3"
  },
  "language_info": {
   "codemirror_mode": {
    "name": "ipython",
    "version": 3
   },
   "file_extension": ".py",
   "mimetype": "text/x-python",
   "name": "python",
   "nbconvert_exporter": "python",
   "pygments_lexer": "ipython3",
   "version": "3.13.0"
  }
 },
 "nbformat": 4,
 "nbformat_minor": 5
}
